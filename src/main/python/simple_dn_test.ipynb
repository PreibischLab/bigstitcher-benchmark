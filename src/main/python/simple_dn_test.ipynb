{
 "cells": [
  {
   "cell_type": "code",
   "execution_count": null,
   "metadata": {},
   "outputs": [],
   "source": [
    "import numpy as np\n",
    "from matplotlib import pyplot as plt\n",
    "from skimage.io import imsave\n",
    "\n",
    "from biobeam import SimLSM_Cylindrical\n",
    "from biobeam.data import tiling\n",
    "import gputools\n",
    "\n",
    "from sim_util import sim_lightsheet_img\n",
    "\n",
    "%matplotlib inline\n",
    "\n",
    "# set and check which gpu is used\n",
    "gputools.init_device(id_platform=0, id_device=1)\n",
    "gputools.get_device()"
   ]
  },
  {
   "cell_type": "code",
   "execution_count": null,
   "metadata": {},
   "outputs": [],
   "source": [
    "from PIL import Image\n",
    "\n",
    "def save_tiff_stack(arr, fname):\n",
    "    imlist = [Image.fromarray(arr[i]) for i in range(arr.shape[0])]\n",
    "    imlist[0].save(fname, save_all=True,\n",
    "                   append_images=imlist[1:])"
   ]
  },
  {
   "cell_type": "code",
   "execution_count": null,
   "metadata": {},
   "outputs": [],
   "source": [
    "N = 512\n",
    "phys_dim = 100\n",
    "r_sphere = 40\n",
    "grid_spacing = 20\n",
    "ri_diff = 0.1\n",
    "z_subsampling = 1\n",
    "\n",
    "# half-sphere with higher ri\n",
    "x = np.linspace(-phys_dim/2, phys_dim/2, N)\n",
    "Xs = np.meshgrid(*([x]*3))\n",
    "R = np.sqrt(np.sum([_X**2 for _X in Xs], axis = 0))\n",
    "mask = (R<r_sphere) * (Xs[1] > 0)\n",
    "dn = ri_diff * mask\n",
    "\n",
    "# grid signal\n",
    "x = np.arange(0, N)\n",
    "Xs = np.meshgrid(*([x]*3))\n",
    "grid = np.prod([_X%grid_spacing==0 for _X in Xs], axis = 0).astype(np.float32)"
   ]
  },
  {
   "cell_type": "code",
   "execution_count": null,
   "metadata": {
    "scrolled": true
   },
   "outputs": [],
   "source": [
    "# sim with left and right illum\n",
    "image_left, _ = sim_lightsheet_img(img=grid, desc=None, dn=dn,\n",
    "                                   right_illum=False, na_illum=0.1,\n",
    "                                   na_detect=0.5, physical_dims=(phys_dim,)*3,\n",
    "                                   ls_pos=phys_dim/2, lam=500,\n",
    "                                   z_plane_subset=np.arange(0, N, z_subsampling))\n",
    "\n",
    "image_right, _ = sim_lightsheet_img(img=grid, desc=None, dn=dn,\n",
    "                                   right_illum=True, na_illum=0.1,\n",
    "                                   na_detect=0.5, physical_dims=(phys_dim,)*3,\n",
    "                                   ls_pos=phys_dim/2, lam=500,\n",
    "                                   z_plane_subset=np.arange(0, N, z_subsampling))\n",
    "\n",
    "\n",
    "save_tiff_stack(image_left, '/Users/david/Desktop/test_illum_left.tif')\n",
    "save_tiff_stack(image_right, '/Users/david/Desktop/test_illum_right.tif')"
   ]
  },
  {
   "cell_type": "code",
   "execution_count": null,
   "metadata": {},
   "outputs": [],
   "source": [
    "# sim with lightsheet focus at 1/4 x and 3/4 x\n",
    "image_ls_left, _ = sim_lightsheet_img(img=grid, desc=None, dn=dn,\n",
    "                                   right_illum=False, na_illum=0.1,\n",
    "                                   na_detect=0.5, physical_dims=(phys_dim,)*3,\n",
    "                                   ls_pos=phys_dim/4, lam=500,\n",
    "                                   z_plane_subset=np.arange(0, N, z_subsampling))\n",
    "\n",
    "image_ls_right, _ = sim_lightsheet_img(img=grid, desc=None, dn=dn,\n",
    "                                   right_illum=True, na_illum=0.1,\n",
    "                                   na_detect=0.5, physical_dims=(phys_dim,)*3,\n",
    "                                   ls_pos=phys_dim*3/4, lam=500,\n",
    "                                   z_plane_subset=np.arange(0, N, z_subsampling))\n",
    "\n",
    "save_tiff_stack(image_ls_left, '/Users/david/Desktop/test_lsfocus_left.tif')\n",
    "save_tiff_stack(image_ls_right, '/Users/david/Desktop/test_lsfocus_right.tif')"
   ]
  },
  {
   "cell_type": "code",
   "execution_count": null,
   "metadata": {},
   "outputs": [],
   "source": [
    "# sim at 400 & 600nm\n",
    "image400nm, _ = sim_lightsheet_img(img=grid, desc=None, dn=dn,\n",
    "                                   right_illum=False, na_illum=0.1,\n",
    "                                   na_detect=0.5, physical_dims=(phys_dim,)*3,\n",
    "                                   ls_pos=phys_dim/2, lam=400,\n",
    "                                   z_plane_subset=np.arange(0, N, z_subsampling))\n",
    "\n",
    "image600nm, _ = sim_lightsheet_img(img=grid, desc=None, dn=dn,\n",
    "                                   right_illum=True, na_illum=0.1,\n",
    "                                   na_detect=0.5, physical_dims=(phys_dim,)*3,\n",
    "                                   ls_pos=phys_dim/2, lam=600,\n",
    "                                   z_plane_subset=np.arange(0, N, z_subsampling))\n",
    "\n",
    "save_tiff_stack(image400nm, '/Users/david/Desktop/test_400nm.tif')\n",
    "save_tiff_stack(image600nm, '/Users/david/Desktop/test_600nm.tif')"
   ]
  },
  {
   "cell_type": "code",
   "execution_count": null,
   "metadata": {
    "scrolled": false
   },
   "outputs": [],
   "source": [
    "# plot left/right illum\n",
    "fig, axs = plt.subplots(ncols=3, figsize=[20,20])\n",
    "image_left_ = image_left[N//z_subsampling//2]\n",
    "image_right_ = image_left[N//z_subsampling//2]\n",
    "axs[0].imshow(1.5 * np.stack([image_left_/np.max(image_left_), image_right_/np.max(image_right_), np.zeros_like(image_left_)], 2))\n",
    "axs[0].set_title('red: left, green: right')\n",
    "axs[1].imshow(image_left_**(1/1), cmap='gray')\n",
    "axs[1].set_title('left')\n",
    "axs[2].imshow(image_right_**(1/1), cmap='gray')\n",
    "axs[2].set_title('right')\n",
    "fig.suptitle('left/right illumination', fontsize=20, y=0.68)\n",
    "plt.savefig('/Users/david/Desktop/left_right.png', dpi=400)\n",
    "\n",
    "\n",
    "# plot colors\n",
    "image400nm_ = image400nm[N//z_subsampling//2]\n",
    "image600nm_ = image600nm[N//z_subsampling//2]\n",
    "fig, axs = plt.subplots(ncols=3, figsize=[20,20])\n",
    "axs[0].imshow(1.5 * np.stack([image400nm_/np.max(image400nm_), image600nm_/np.max(image600nm_), np.zeros_like(image400nm_)], 2))\n",
    "axs[0].set_title('red: 400nm, green: 600nm')\n",
    "axs[1].imshow(image400nm_**(1/1), cmap='gray')\n",
    "axs[1].set_title('400 nm')\n",
    "axs[2].imshow(image600nm_**(1/1), cmap='gray')\n",
    "axs[2].set_title('600 nm')\n",
    "fig.suptitle('wavelengths', fontsize=20, y=0.68)\n",
    "plt.savefig('/Users/david/Desktop/lambda.png', dpi=400)\n",
    "\n",
    "\n",
    "# plot colors\n",
    "image_ls_left_ = image_ls_left[N//z_subsampling//2]\n",
    "image_ls_right_ = image_ls_right[N//z_subsampling//2]\n",
    "fig, axs = plt.subplots(ncols=3, figsize=[20,20])\n",
    "axs[0].imshow(1.5 * np.stack([image_ls_left_/np.max(image_ls_left_), image_ls_right_/np.max(image_ls_right_), np.zeros_like(image_ls_left_)], 2))\n",
    "axs[0].set_title('red: 1/4 x, green: 3/4 x')\n",
    "axs[1].imshow(image_ls_left_**(1/1), cmap='gray')\n",
    "axs[1].set_title('1/4 x')\n",
    "axs[2].imshow(image_ls_right_**(1/1), cmap='gray')\n",
    "axs[2].set_title('3/4 x')\n",
    "fig.suptitle('left right lightsheet focus', fontsize=20, y=0.68)\n",
    "plt.savefig('/Users/david/Desktop/ls_pos.png', dpi=400)\n"
   ]
  },
  {
   "cell_type": "code",
   "execution_count": null,
   "metadata": {},
   "outputs": [],
   "source": [
    "# old code\n",
    "# only single plane sim here"
   ]
  },
  {
   "cell_type": "code",
   "execution_count": null,
   "metadata": {
    "scrolled": false
   },
   "outputs": [],
   "source": [
    "# sim from left\n",
    "m = SimLSM_Cylindrical(dn=dn, signal=grid, NA_illum=0.1, NA_detect=0.5, size=(phys_dim,)*3, n0=1.33)\n",
    "image_left = m.simulate_image_z(cz=0, psf_grid_dim=(16,16),conv_sub_blocks=(2,2))[16]\n",
    "\n",
    "\n",
    "image_left, _ = sim_lightsheet_img(img=grid, desc=None, dn=dn,\n",
    "                                   right_illum=False, na_illum==0.1,\n",
    "                                   na_detect=0.5, physical_dims=(phys_dim,)*3,\n",
    "                                   ls_pos=phys_dim/2, lam=500)\n",
    "\n",
    "# sim from right\n",
    "m = SimLSM_Cylindrical(dn=np.flip(dn,2), signal=np.flip(grid,2), NA_illum=0.1, NA_detect=0.5, size=(phys_dim,)*3, n0=1.33)\n",
    "image_right = m.simulate_image_z(cz=0, psf_grid_dim=(16,16),conv_sub_blocks=(2,2))[16]\n",
    "# flip back\n",
    "image_right = np.flip(image_right, 1)\n",
    "\n",
    "imsave('/Users/david/Desktop/test_illum_left.tif', image_left)\n",
    "imsave('/Users/david/Desktop/test_illum_right.tif', image_right)"
   ]
  },
  {
   "cell_type": "code",
   "execution_count": null,
   "metadata": {},
   "outputs": [],
   "source": [
    "# sim left ls pos\n",
    "m = SimLSM_Cylindrical(dn=dn, signal=grid, NA_illum=0.1, NA_detect=0.4, size=(phys_dim,)*3, n0=1.33,\n",
    "                       zfoc_illum=phys_dim/4)\n",
    "image_ls_left = m.simulate_image_z(cz=0, psf_grid_dim=(16,16),conv_sub_blocks=(2,2))[16]\n",
    "\n",
    "# sim right ls pos\n",
    "m = SimLSM_Cylindrical(dn=dn, signal=grid, NA_illum=0.1, NA_detect=0.4, size=(phys_dim,)*3, n0=1.33,\n",
    "                       zfoc_illum=phys_dim*3/4)\n",
    "image_ls_right = m.simulate_image_z(cz=0, psf_grid_dim=(16,16),conv_sub_blocks=(2,2))[16]\n",
    "\n",
    "imsave('/Users/david/Desktop/test_lsfocus_left.tif', image_ls_left)\n",
    "imsave('/Users/david/Desktop/test_lsfocus_right.tif', image_ls_right)"
   ]
  },
  {
   "cell_type": "code",
   "execution_count": null,
   "metadata": {
    "scrolled": false
   },
   "outputs": [],
   "source": [
    "# sim middle at 400nm\n",
    "m = SimLSM_Cylindrical(dn=dn, signal=grid, NA_illum=0.1, NA_detect=0.4, size=(phys_dim,)*3, n0=1.33,\n",
    "                       lam_detect=0.4, lam_illum=0.4)\n",
    "image400nm = m.simulate_image_z(cz=0, psf_grid_dim=(16,16),conv_sub_blocks=(2,2))[16]\n",
    "# sim middle at 600nm\n",
    "m = SimLSM_Cylindrical(dn=dn, signal=grid, NA_illum=0.1, NA_detect=0.4, size=(phys_dim,)*3, n0=1.33,\n",
    "                       lam_detect=0.6, lam_illum=0.6)\n",
    "image600nm = m.simulate_image_z(cz=0, psf_grid_dim=(16,16),conv_sub_blocks=(2,2))[16]\n",
    "\n",
    "imsave('/Users/david/Desktop/test_400nm.tif', image400nm)\n",
    "imsave('/Users/david/Desktop/test_600nm.tif', image600nm)"
   ]
  }
 ],
 "metadata": {
  "kernelspec": {
   "display_name": "Python 3",
   "language": "python",
   "name": "python3"
  },
  "language_info": {
   "codemirror_mode": {
    "name": "ipython",
    "version": 3
   },
   "file_extension": ".py",
   "mimetype": "text/x-python",
   "name": "python",
   "nbconvert_exporter": "python",
   "pygments_lexer": "ipython3",
   "version": "3.6.6"
  }
 },
 "nbformat": 4,
 "nbformat_minor": 2
}
