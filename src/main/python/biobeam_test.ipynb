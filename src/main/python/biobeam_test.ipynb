{
 "cells": [
  {
   "cell_type": "code",
   "execution_count": null,
   "metadata": {},
   "outputs": [],
   "source": [
    "import os\n",
    "import re\n",
    "\n",
    "import numpy as np\n",
    "\n",
    "import biobeam\n",
    "import gputools\n",
    "import pyopencl\n",
    "from matplotlib import pyplot as plt\n",
    "from skimage.io import imsave\n",
    "from skimage.io import imread_collection\n",
    "\n",
    "from sim_util import dn_from_signal, random_spots_in_radius, simple_downsample\n",
    "from run_sim import sim_lightsheet\n",
    "from calmutils.misc import split_str_digit\n",
    "import run_sim\n",
    "from sim_util import random_points_in_volume_min_distance\n",
    "\n",
    "%matplotlib inline\n",
    "plt.rcParams['figure.figsize'] = [12,12]"
   ]
  },
  {
   "cell_type": "code",
   "execution_count": null,
   "metadata": {},
   "outputs": [],
   "source": [
    "# set and check which gpu is used\n",
    "gputools.init_device(id_platform = 0, id_device = 1)\n",
    "gputools.get_device()"
   ]
  },
  {
   "cell_type": "code",
   "execution_count": null,
   "metadata": {},
   "outputs": [],
   "source": [
    "from sim_util import load_tiff_sequence\n",
    "img = load_tiff_sequence('/Volumes/davidh-ssd/mv-sim/sim_tissue3/sim-phantom/', downsampling=2)"
   ]
  },
  {
   "cell_type": "code",
   "execution_count": null,
   "metadata": {},
   "outputs": [],
   "source": [
    "img.shape, img.dtype"
   ]
  },
  {
   "cell_type": "code",
   "execution_count": null,
   "metadata": {},
   "outputs": [],
   "source": [
    "# illumination from right side\n",
    "right_illum = True\n",
    "# phantom size in microns\n",
    "physical_dims = (400,400,200)\n",
    "# LS position\n",
    "ls_pos = 200\n",
    "# downsampling\n",
    "ds_factor = 2"
   ]
  },
  {
   "cell_type": "code",
   "execution_count": null,
   "metadata": {
    "scrolled": false
   },
   "outputs": [],
   "source": [
    "# load tiff series test data\n",
    "\n",
    "sequence_pattern = 'sim(\\d+).tif'\n",
    "in_path = '/Volumes/davidh-ssd/mv-sim/sim_tissue/sim-phantom/'\n",
    "\n",
    "files = os.listdir(in_path)\n",
    "files.sort(key=lambda f: split_str_digit(f))\n",
    "files\n",
    "\n",
    "ic = imread_collection([os.path.join(in_path, f) for f in files])\n",
    "img = ic.concatenate()"
   ]
  },
  {
   "cell_type": "code",
   "execution_count": null,
   "metadata": {},
   "outputs": [],
   "source": [
    "signal = img\n",
    "signal_ = simple_downsample(signal, ds_factor)\n",
    "#signal_ = np.swapaxes(signal_, 0, 1)\n",
    "\n",
    "signal = np.pad(signal_, ((16,16),(0,0),(0,0)), \"constant\")\n",
    "\n",
    "    \n",
    "dn = dn_from_signal(signal, run_sim.RI_DEFAULT, (0.05, 0.1))\n",
    "\n",
    "#signal = np.zeros_like(signal)\n",
    "\n",
    "desc = random_spots_in_radius(100, 3, (np.array(signal.shape)/2).astype(np.int)) + (np.array(signal.shape)/2).astype(np.int)\n",
    "\n",
    "step = 20\n",
    "off = 10\n",
    "\n",
    "a = np.meshgrid(*[range(off, m-32, step) for m in signal.shape])\n",
    "desc = [np.array(x) + 16 for x in zip(*[b.flat for b in a])]\n",
    "\n",
    "\n",
    "desc = random_points_in_volume_min_distance([15] * len(signal.shape), [s - 16 for s in signal.shape], 10, 10)\n",
    "for d in desc:\n",
    "    #print(d)\n",
    "    signal[tuple(d)] = 10000\n",
    "    \n",
    "from scipy import ndimage as ndi\n",
    "signal = ndi.gaussian_filter(signal, 0.8)\n",
    "    \n",
    "if right_illum:\n",
    "    signal = np.flip(signal, 2)\n",
    "    \n",
    "\n",
    "#create a microscope simulator\n",
    "m = biobeam.SimLSM_Cylindrical(dn = dn, signal = signal, zfoc_illum=physical_dims[0]/2 - ls_pos,\n",
    "                       NA_illum= .1, NA_detect=.5,\n",
    "                       n_volumes=4,\n",
    "                       #size = physical_dims, n0 = run_sim.RI_DEFAULT)\n",
    "                       size = [p/ds_factor for p in physical_dims], n0 = run_sim.RI_DEFAULT)"
   ]
  },
  {
   "cell_type": "code",
   "execution_count": null,
   "metadata": {
    "scrolled": true
   },
   "outputs": [],
   "source": [
    "out = np.zeros_like(signal)[:signal.shape[0] - 16*2]\n",
    "for plane in range(signal.shape[0] - 16*2):\n",
    "    cz = plane - (signal.shape[0] - 16*2) // 2\n",
    "    cz = cz * m._bpm_detect.units[-1]\n",
    "    image = m.simulate_image_z(cz=cz, psf_grid_dim=(8,8), conv_sub_blocks=(2,2))\n",
    "    out[plane] = image[16]\n",
    "    #plt.imshow(image[16])\n"
   ]
  },
  {
   "cell_type": "code",
   "execution_count": null,
   "metadata": {},
   "outputs": [],
   "source": [
    "if right_illum:\n",
    "    out = np.flip(out, 2)"
   ]
  },
  {
   "cell_type": "code",
   "execution_count": null,
   "metadata": {},
   "outputs": [],
   "source": [
    "a = dn_from_signal(signal, run_sim.RI_DEFAULT, (0.15, 0.2))\n",
    "np.max(a) / run_sim.RI_DEFAULT"
   ]
  },
  {
   "cell_type": "code",
   "execution_count": null,
   "metadata": {},
   "outputs": [],
   "source": [
    "a = dn_from_signal(np.pad(signal_, ((16,16),(0,0),(0,0)), \"constant\"), run_sim.RI_DEFAULT, (0.15/run_sim.RI_DEFAULT, 0.15/run_sim.RI_DEFAULT))\n",
    "plt.hist(a.ravel(), bins=50)\n"
   ]
  },
  {
   "cell_type": "code",
   "execution_count": null,
   "metadata": {},
   "outputs": [],
   "source": [
    "\n",
    "\n",
    "from skimage.feature import peak_local_max\n",
    "from scipy import ndimage as ndi\n",
    "\n",
    "\n",
    "p = peak_local_max(out / np.max(out),threshold_abs=0.1)"
   ]
  },
  {
   "cell_type": "code",
   "execution_count": null,
   "metadata": {},
   "outputs": [],
   "source": [
    "np.swapaxes(img, 0, 1).shape\n"
   ]
  },
  {
   "cell_type": "code",
   "execution_count": null,
   "metadata": {},
   "outputs": [],
   "source": [
    "psfs = m.psf_grid_z(cz = -20, grid_dim = (4,4), zslice = 32, with_sheet=False)"
   ]
  },
  {
   "cell_type": "code",
   "execution_count": null,
   "metadata": {},
   "outputs": [],
   "source": [
    "psfs.shape\n",
    "plt.imshow(np.max(psfs, axis=0))\n",
    "peak_local_max(psfs, threshold_abs=0.001, min_distance=10)"
   ]
  },
  {
   "cell_type": "code",
   "execution_count": null,
   "metadata": {},
   "outputs": [],
   "source": [
    "p.shape\n",
    "\n",
    "p\n",
    "p1 = sorted(list(desc), key=lambda x: tuple(list(x)), reverse=True)\n",
    "\n",
    "print(p)\n",
    "\n",
    "p1 - np.array([16, 0, 0])"
   ]
  },
  {
   "cell_type": "code",
   "execution_count": null,
   "metadata": {},
   "outputs": [],
   "source": [
    "def norm_arr(arr):\n",
    "    return arr / np.max(arr)\n",
    "\n",
    "f, (ax1, ax2) = plt.subplots(nrows=2)\n",
    "ax1.imshow(norm_arr(np.sqrt(np.max(out, axis=0))))\n",
    "ax2.imshow(norm_arr(np.sqrt(np.max(np.flip(signal,2)[16:-16], axis=0))))\n",
    "out.shape\n",
    "\n",
    "plt.rcParams['figure.figsize'] = [12,12]"
   ]
  },
  {
   "cell_type": "code",
   "execution_count": null,
   "metadata": {},
   "outputs": [],
   "source": [
    "s = np.sum(out[16:-16], axis=2)\n",
    "plt.imshow(np.fft.fftshift(np.abs(np.fft.fftn(s)))**0.5 )\n",
    "\n"
   ]
  },
  {
   "cell_type": "code",
   "execution_count": null,
   "metadata": {
    "scrolled": false
   },
   "outputs": [],
   "source": [
    "out_fmt = 'sim-bbeam-{}-{}.tif'\n",
    "out_path = '/Volumes/davidh-ssd/mv-sim/sim_tissue/sim-bbeam-right2/'\n",
    "\n",
    "if not os.path.exists(out_path):\n",
    "    os.makedirs(out_path)\n",
    "\n",
    "out = np.zeros((img.shape[0] - 16*2,) + img.shape[1:], dtype=img.dtype)\n",
    "\n",
    "for i in range(out.shape[0]):\n",
    "    \n",
    "    if i != 155:\n",
    "        continue\n",
    "    \n",
    "    cz = i - (img.shape[0] - 16*2) // 2\n",
    "    cz = cz * m._bpm_detect.units[-1]\n",
    "\n",
    "    image = m.simulate_image_z(cz=cz, psf_grid_dim=(16,16), conv_sub_blocks=(8,8))\n",
    "    out[i] = image[16] if not right_illum else np.flip(image[16], 2)\n",
    "    \n",
    "    # save immediately\n",
    "    imsave(os.path.join(out_path, out_fmt.format(\"left\" if not right_illum else \"right\", i)), out[i])\n",
    "    \n",
    "    print(\"{} of {} done\".format(i+1, out.shape[0]))"
   ]
  },
  {
   "cell_type": "code",
   "execution_count": null,
   "metadata": {},
   "outputs": [],
   "source": [
    "image[16] if not right_illum else np.flip(image[16], 1).shape\n",
    "#out.shape\n",
    "np.array(img.shape) - 32\n",
    "\n",
    "from scipy.ndimage import zoom\n",
    "\n",
    "zoom(img, [1,2,2]).shape"
   ]
  },
  {
   "cell_type": "code",
   "execution_count": null,
   "metadata": {},
   "outputs": [],
   "source": [
    "\n",
    "\n",
    "simple_downsample(img, [1,2,2]).shape"
   ]
  },
  {
   "cell_type": "code",
   "execution_count": null,
   "metadata": {},
   "outputs": [],
   "source": [
    "# call sim_lightsheet direcctly\n",
    "\n",
    "if __name__ == '__main__':\n",
    "    \n",
    "    base_dir = '/Volumes/davidh-ssd/mv-sim/sim_tissue/'\n",
    "    \n",
    "    params = [\n",
    "        (False, 200, 400),\n",
    "    ]\n",
    "    ''' (False, 400, 400),\n",
    "        (False, 550, 400),\n",
    "        (True, 250, 400),\n",
    "        (True, 400, 400),\n",
    "        (True, 550, 400),\n",
    "        (False, 250, 600),\n",
    "        (False, 400, 600),\n",
    "        (False, 550, 600),\n",
    "        (True, 250, 600),\n",
    "        (True, 400, 600),\n",
    "        (True, 550, 600)\n",
    "    ]\n",
    "    '''\n",
    "    for (right_illum, ls_pos, lam) in params:\n",
    "        out_dir = 'sim-biobeam2-illum_{}-ls_pos_{}-lam-{}'.format('right' if right_illum else 'left', ls_pos, lam)\n",
    "        sim_lightsheet(base_dir, out_dir, right_illum=right_illum, ls_pos=ls_pos, lam=lam, planes_to_simulate=[128])\n",
    "    print('ALL DONE.')\n",
    "    "
   ]
  },
  {
   "cell_type": "code",
   "execution_count": null,
   "metadata": {},
   "outputs": [],
   "source": [
    "_ = \"\"\"\n",
    "\n",
    "pl = pyopencl.get_platforms()[0]\n",
    "pl.get_devices()\n",
    "os.environ['PYOPENCL_COMPILER_OUTPUT'] = '1'\n",
    "\n",
    "gputools.init_device(id_platform = 0, id_device = 1)\n",
    "\n",
    "signal = read_tiff_stack('/Users/david/Desktop/Image 0-1.tif', False)\n",
    "signal = np.swapaxes(signal, 0,2)\n",
    "dn = (signal > 0) * 0.01\n",
    "\n",
    "#create a microscope simulator\n",
    "m = biobeam.SimLSM_Cylindrical(dn = dn, signal = signal,\n",
    "                       NA_illum= .1, NA_detect=.45,\n",
    "                       n_volumes=1,\n",
    "                       size = (128,512,512), n0 = 1.33)\n",
    "\n",
    "image = m.simulate_image_z(cz=0, psf_grid_dim=(16,16), conv_sub_blocks=(2,2))\n",
    "\n",
    "\n",
    "print(image.shape)\n",
    "plt.imshow(image[16])\n",
    "\"\"\""
   ]
  }
 ],
 "metadata": {
  "anaconda-cloud": {},
  "kernelspec": {
   "display_name": "Python 3",
   "language": "python",
   "name": "python3"
  },
  "language_info": {
   "codemirror_mode": {
    "name": "ipython",
    "version": 3
   },
   "file_extension": ".py",
   "mimetype": "text/x-python",
   "name": "python",
   "nbconvert_exporter": "python",
   "pygments_lexer": "ipython3",
   "version": "3.6.6"
  }
 },
 "nbformat": 4,
 "nbformat_minor": 2
}
