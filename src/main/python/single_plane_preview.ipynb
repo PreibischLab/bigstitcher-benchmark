{
 "cells": [
  {
   "cell_type": "code",
   "execution_count": null,
   "metadata": {
    "collapsed": false
   },
   "outputs": [],
   "source": [
    "%load_ext memory_profiler\n",
    "%load_ext line_profiler\n",
    "\n",
    "from sim_util import preview_from_definition\n",
    "from matplotlib import pyplot as plt\n",
    "import numpy as np\n",
    "from matplotlib import colors\n",
    "import gputools\n",
    "import os\n",
    "from skimage.io import imsave\n",
    "import logging\n",
    "\n",
    "h = logging.StreamHandler()\n",
    "h.setLevel(logging.INFO)\n",
    "h.setFormatter(logging.Formatter ('%(asctime)s %(levelname)s:%(message)s'))\n",
    "logger = logging.getLogger()\n",
    "logger.addHandler(h)\n",
    "logger.setLevel(logging.INFO)\n",
    "%matplotlib inline\n",
    "plt.rcParams['figure.figsize'] = [16,16]\n",
    "\n",
    "\n",
    "# set and check which gpu is used\n",
    "gputools.init_device(id_platform=0, id_device=1)\n",
    "gputools.get_device()"
   ]
  },
  {
   "cell_type": "code",
   "execution_count": null,
   "metadata": {
    "collapsed": false,
    "scrolled": true
   },
   "outputs": [],
   "source": [
    "# simulate one plane of images\n",
    "z_plane = 512\n",
    "\n",
    "# for all parameter files in this dir:\n",
    "param_basedir = '/scratch/hoerl/sim_preview_test/'\n",
    "params = [f for f in os.listdir(param_basedir) if f.endswith('.json')]\n",
    "\n",
    "previews = {}\n",
    "for p in params:\n",
    "    print('simulating {}.'.format(p))\n",
    "    %mprun -f preview_from_definition preview = preview_from_definition(os.path.join(param_basedir, p), z_plane)\n",
    "    previews[p] = preview\n",
    "    print('{} done.'.format(p))\n",
    "print('all done.')"
   ]
  },
  {
   "cell_type": "code",
   "execution_count": null,
   "metadata": {
    "collapsed": false,
    "scrolled": false
   },
   "outputs": [],
   "source": [
    "# plot the planes\n",
    "# for different lambda, illum, x_pos\n",
    "\n",
    "for p_file, preview in previews.items():\n",
    "\n",
    "    for k in sorted(set(map(lambda x: x[::2], preview.keys()))):\n",
    "        lam, xpos = k\n",
    "        print(p_file, k)\n",
    "        k_right = (lam, True, xpos)\n",
    "        k_left = (lam, False, xpos)\n",
    "        v_r = preview[k_right]\n",
    "        v_l = preview[k_left]\n",
    "\n",
    "        plt.figure()\n",
    "        sig_r, desc_r = v_r\n",
    "        sig_l, desc_l = v_l\n",
    "        \n",
    "        imsave(os.path.join(param_basedir, p_file + 'sig_l.tif'), sig_l.squeeze().astype(np.float32))\n",
    "        imsave(os.path.join(param_basedir, p_file + 'sig_r.tif'), sig_r.squeeze().astype(np.float32))\n",
    "        imsave(os.path.join(param_basedir, p_file + 'desc_l.tif'), desc_l.squeeze().astype(np.float32))\n",
    "        imsave(os.path.join(param_basedir, p_file + 'desc_r.tif'), desc_r.squeeze().astype(np.float32))\n",
    "        \n",
    "        sig_rgb = np.stack((sig_r.squeeze(), sig_l.squeeze(), np.zeros_like(sig_r.squeeze())), 2) \n",
    "        # crude intensity scaling\n",
    "        sig_rgb *= 200\n",
    "        plt.imshow(sig_rgb.astype(np.float32))\n",
    "        plt.show()\n",
    "\n",
    "        "
   ]
  },
  {
   "cell_type": "code",
   "execution_count": null,
   "metadata": {
    "collapsed": false
   },
   "outputs": [],
   "source": [
    "from sim_util import load_tiff_sequence\n",
    "\n",
    "img = load_tiff_sequence('/scratch/hoerl/sim_tissue1k/sim-phantom/')"
   ]
  },
  {
   "cell_type": "code",
   "execution_count": null,
   "metadata": {
    "collapsed": false
   },
   "outputs": [],
   "source": [
    "img.dtype"
   ]
  },
  {
   "cell_type": "code",
   "execution_count": null,
   "metadata": {
    "collapsed": false
   },
   "outputs": [],
   "source": [
    "import numpy as np\n",
    "from scipy import ndimage as ndi\n",
    "from multithreading import Pool, cpu_count\n",
    "from skimage.data import camera\n",
    "import os, sys\n",
    "\n",
    "from matplotlib import pyplot as plt\n",
    "%matplotlib inline\n",
    "\n",
    "def apply_mp(arr, fun, overlap, axis=-1, n_proc=None, *args, **kwargs):\n",
    "    \n",
    "    if n_proc is None:\n",
    "        n_proc = cpu_count()        \n",
    "    \n",
    "    if axis<0:\n",
    "        axis = len(arr.shape) + axis\n",
    "    slice_len = arr.shape[axis] // n_proc\n",
    "    \n",
    "    blocks = []\n",
    "    for i in range(0, n_proc):\n",
    "        min_ = slice_len * i - overlap\n",
    "        if i == 0:\n",
    "            min_ = 0\n",
    "        \n",
    "        max_ = slice_len * (i + 1) + overlap\n",
    "        if i == n_proc-1:\n",
    "            max_ = arr.shape[axis]\n",
    "        \n",
    "        cut = [slice(min_, max_) if d==axis else slice(0,arr.shape[d]) for d in range(len(arr.shape))]\n",
    "        block = arr[tuple(cut)]\n",
    "        blocks.append(block)\n",
    "    \n",
    "    # FIXME: crude solution, the_fun needs to be module-level for mp\n",
    "    global the_fun\n",
    "    def the_fun(a):\n",
    "        return fun(a, *args, **kwargs)\n",
    "    \n",
    "    with Pool(n_proc) as pool:\n",
    "        res_blocks = pool.map(the_fun, blocks)\n",
    "\n",
    "    \n",
    "    res = np.zeros_like(arr)\n",
    "    for i in range(0, n_proc):\n",
    "        min_block = overlap if i!=0 else 0\n",
    "        max_block = res_blocks[i].shape[axis] - (0 if i == (n_proc-1) else overlap)\n",
    "        min_out = slice_len * i\n",
    "        max_out = slice_len * (i+1) if i!=(n_proc-1) else arr.shape[axis]\n",
    "        \n",
    "        cut_out = [slice(min_out, max_out) if d==axis else slice(0,arr.shape[d]) for d in range(len(arr.shape))]\n",
    "        cut_block = [slice(min_block, max_block) if d==axis else slice(0,arr.shape[d]) for d in range(len(arr.shape))]\n",
    "        \n",
    "        res[tuple(cut_out)] = res_blocks[i][tuple(cut_block)]\n",
    "    return res"
   ]
  },
  {
   "cell_type": "code",
   "execution_count": null,
   "metadata": {
    "collapsed": false
   },
   "outputs": [],
   "source": [
    "import os\n",
    "from scipy.ndimage import gaussian_filter\n",
    "\n",
    "a = np.random.random((256,1024,1024))\n",
    "\n",
    "from timeit import timeit\n",
    "#blr = apply_mp(a, ndi.gaussian_filter, 20, 0, sigma=1)\n",
    "\n",
    "\n",
    "\n",
    "#%timeit apply_mp(a, ndi.gaussian_filter, 20, 0, sigma=1)\n",
    "%mprun -f  gaussian_filter gaussian_filter(a, sigma=1)\n",
    "\n",
    "#plt.imshow(blr)"
   ]
  },
  {
   "cell_type": "code",
   "execution_count": null,
   "metadata": {
    "collapsed": false
   },
   "outputs": [],
   "source": []
  },
  {
   "cell_type": "code",
   "execution_count": null,
   "metadata": {
    "collapsed": false
   },
   "outputs": [],
   "source": [
    "import gc\n",
    "gc.collect()"
   ]
  }
 ],
 "metadata": {
  "anaconda-cloud": {},
  "kernelspec": {
   "display_name": "Python [conda root]",
   "language": "python",
   "name": "conda-root-py"
  },
  "language_info": {
   "codemirror_mode": {
    "name": "ipython",
    "version": 3
   },
   "file_extension": ".py",
   "mimetype": "text/x-python",
   "name": "python",
   "nbconvert_exporter": "python",
   "pygments_lexer": "ipython3",
   "version": "3.5.2"
  }
 },
 "nbformat": 4,
 "nbformat_minor": 1
}
