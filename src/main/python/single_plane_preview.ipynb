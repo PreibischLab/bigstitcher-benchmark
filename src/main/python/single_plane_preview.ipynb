{
 "cells": [
  {
   "cell_type": "code",
   "execution_count": null,
   "metadata": {},
   "outputs": [],
   "source": [
    "from sim_util import preview_from_definition\n",
    "from matplotlib import pyplot as plt\n",
    "import numpy as np\n",
    "from matplotlib import colors\n",
    "import gputools\n",
    "import os\n",
    "from skimage.io import imsave\n",
    "\n",
    "%matplotlib inline\n",
    "plt.rcParams['figure.figsize'] = [16,16]\n",
    "\n",
    "\n",
    "# set and check which gpu is used\n",
    "gputools.init_device(id_platform=0, id_device=1)\n",
    "gputools.get_device()"
   ]
  },
  {
   "cell_type": "code",
   "execution_count": null,
   "metadata": {
    "scrolled": true
   },
   "outputs": [],
   "source": [
    "# simulate one plane of images\n",
    "z_plane = 512\n",
    "\n",
    "# for all parameter files in this dir:\n",
    "param_basedir = '/Volumes/davidh-ssd/mv-sim/preview2'\n",
    "params = [f for f in os.listdir(param_basedir) if f.endswith('.json')]\n",
    "\n",
    "previews = {}\n",
    "for p in params:\n",
    "    print('simulating {}.'.format(p))\n",
    "    preview = preview_from_definition(os.path.join(param_basedir, p), z_plane)\n",
    "    previews[p] = preview\n",
    "    print('{} done.'.format(p))\n",
    "print('all done.')"
   ]
  },
  {
   "cell_type": "code",
   "execution_count": null,
   "metadata": {
    "scrolled": false
   },
   "outputs": [],
   "source": [
    "# plot the planes\n",
    "# for different lambda, illum, x_pos\n",
    "\n",
    "for p_file, preview in previews.items():\n",
    "\n",
    "    for k in sorted(set(map(lambda x: x[::2], preview.keys()))):\n",
    "        lam, xpos = k\n",
    "        print(p_file, k)\n",
    "        k_right = (lam, True, xpos)\n",
    "        k_left = (lam, False, xpos)\n",
    "        v_r = preview[k_right]\n",
    "        v_l = preview[k_left]\n",
    "\n",
    "        plt.figure()\n",
    "        sig_r, desc_r = v_r\n",
    "        sig_l, desc_l = v_l\n",
    "        \n",
    "        imsave(os.path.join(param_basedir, p_file + 'sig_l.tif'), sig_l.squeeze().astype(np.float32))\n",
    "        imsave(os.path.join(param_basedir, p_file + 'sig_r.tif'), sig_r.squeeze().astype(np.float32))\n",
    "        imsave(os.path.join(param_basedir, p_file + 'desc_l.tif'), desc_l.squeeze().astype(np.float32))\n",
    "        imsave(os.path.join(param_basedir, p_file + 'desc_r.tif'), desc_r.squeeze().astype(np.float32))\n",
    "        \n",
    "        sig_rgb = np.stack((sig_r.squeeze(), sig_l.squeeze(), np.zeros_like(sig_r.squeeze())), 2) \n",
    "        # crude intensity scaling\n",
    "        sig_rgb *= 14\n",
    "        plt.imshow(sig_rgb)\n",
    "        plt.show()\n",
    "\n",
    "        "
   ]
  }
 ],
 "metadata": {
  "kernelspec": {
   "display_name": "Python 3",
   "language": "python",
   "name": "python3"
  },
  "language_info": {
   "codemirror_mode": {
    "name": "ipython",
    "version": 3
   },
   "file_extension": ".py",
   "mimetype": "text/x-python",
   "name": "python",
   "nbconvert_exporter": "python",
   "pygments_lexer": "ipython3",
   "version": "3.6.6"
  }
 },
 "nbformat": 4,
 "nbformat_minor": 1
}
