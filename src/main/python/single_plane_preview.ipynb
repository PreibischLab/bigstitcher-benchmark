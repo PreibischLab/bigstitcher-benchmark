{
 "cells": [
  {
   "cell_type": "code",
   "execution_count": null,
   "metadata": {
    "collapsed": true
   },
   "outputs": [],
   "source": [
    "from sim_util import preview_from_definition\n",
    "from matplotlib import pyplot as plt\n",
    "import numpy as np\n",
    "from matplotlib import colors\n",
    "\n",
    "%matplotlib inline\n",
    "plt.rcParams['figure.figsize'] = [8,8]"
   ]
  },
  {
   "cell_type": "code",
   "execution_count": null,
   "metadata": {
    "collapsed": false,
    "scrolled": false
   },
   "outputs": [],
   "source": [
    "# simulate one plane of images\n",
    "\n",
    "z_plane = 255\n",
    "preview = preview_from_definition('/scratch/hoerl/sim_tissue3/sim3_2.json', z_plane)\n",
    "print('Done.')"
   ]
  },
  {
   "cell_type": "code",
   "execution_count": null,
   "metadata": {
    "collapsed": false,
    "scrolled": false
   },
   "outputs": [],
   "source": [
    "# plot the planes\n",
    "# for different lambda, illum, x_pos\n",
    "\n",
    "for k in sorted(set(map(lambda x: x[::2], preview.keys()))):\n",
    "    lam, xpos = k\n",
    "    print(k)\n",
    "    k_right = (lam, True, xpos)\n",
    "    k_left = (lam, False, xpos)\n",
    "    v_r = preview[k_right]\n",
    "    v_l = preview[k_left]\n",
    "    \n",
    "    plt.figure()\n",
    "    sig_r, desc_r = v_r\n",
    "    sig_l, desc_l = v_l\n",
    "    \n",
    "    sig = np.stack((sig_r.squeeze(), sig_l.squeeze(), np.zeros_like(sig_r.squeeze())), 2)    \n",
    "    \n",
    "    # crude intensity scaling\n",
    "    sig *= 5\n",
    "    plt.imshow(sig)\n",
    "    plt.show()"
   ]
  }
 ],
 "metadata": {
  "kernelspec": {
   "display_name": "Python [conda root]",
   "language": "python",
   "name": "conda-root-py"
  },
  "language_info": {
   "codemirror_mode": {
    "name": "ipython",
    "version": 3
   },
   "file_extension": ".py",
   "mimetype": "text/x-python",
   "name": "python",
   "nbconvert_exporter": "python",
   "pygments_lexer": "ipython3",
   "version": "3.5.2"
  }
 },
 "nbformat": 4,
 "nbformat_minor": 1
}
