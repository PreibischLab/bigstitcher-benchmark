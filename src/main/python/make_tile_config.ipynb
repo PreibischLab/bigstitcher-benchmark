{
 "cells": [
  {
   "cell_type": "code",
   "execution_count": null,
   "metadata": {},
   "outputs": [],
   "source": [
    "### Generate a tileConfig for BigStitcher\n",
    "\n",
    "import json\n",
    "from itertools import product, repeat, chain\n",
    "\n",
    "# from https://docs.python.org/3/library/itertools.html\n",
    "def ncycles(iterable, n):\n",
    "    \"Returns the sequence elements n times\"\n",
    "    return chain.from_iterable(repeat(tuple(iterable), n))\n",
    "\n",
    "params_file = \"/Volumes/davidh-ssd/mv-sim/smallDRI_21/params1.json\"\n",
    "tile_conf_file = \"/Volumes/davidh-ssd/mv-sim/smallDRI_21/tileConf.txt\"\n",
    "\n",
    "with open(params_file, 'r') as fd:\n",
    "    params = json.load(fd)\n",
    "\n",
    "with open(tile_conf_file, 'w') as fd:\n",
    "    fd.writelines('dim=3\\n')\n",
    "    for (i,(x,y)) in enumerate(ncycles(product(range(len(params['x_locs'])), range(len(params['y_locs']))),4)):\n",
    "        x_loc=params['x_locs'][x] // params['downsampling']\n",
    "        y_loc=params['y_locs'][y] // params['downsampling']\n",
    "        fd.writelines('{};;({},{},0)\\n'.format(i,x_loc,y_loc))"
   ]
  },
  {
   "cell_type": "code",
   "execution_count": 1,
   "metadata": {},
   "outputs": [],
   "source": [
    "### Generate a tileConfig for BigStitcher\n",
    "## V2: real locs\n",
    "\n",
    "import sys\n",
    "import json\n",
    "from itertools import product, repeat, chain\n",
    "\n",
    "import numpy as np\n",
    "\n",
    "# from https://docs.python.org/3/library/itertools.html\n",
    "def ncycles(iterable, n):\n",
    "    \"Returns the sequence elements n times\"\n",
    "    return chain.from_iterable(repeat(tuple(iterable), n))\n",
    "\n",
    "params_file = \"/Volumes/davidh-ssd/mv-sim/smallDRI_21/params1.json\"\n",
    "tile_conf_file = \"/Volumes/davidh-ssd/mv-sim/smallDRI_21/tileConf.txt\"\n",
    "\n",
    "with open(params_file, 'r') as fd:\n",
    "    params = json.load(fd)\n",
    "\n",
    "with open(tile_conf_file, 'w') as fd:\n",
    "    fd.writelines('dim=3\\n')\n",
    "    for (i,(x,y,z)) in enumerate(ncycles(product(range(len(params['x_locs'])),\n",
    "                                               range(len(params['y_locs'])),\n",
    "                                               range(len(params['z_locs']))), 4)):\n",
    "\n",
    "            x_loc=params['x_locs'][x] \n",
    "            y_loc=params['y_locs'][y] \n",
    "            z_loc=params['z_locs'][z] // params['downsampling']\n",
    "\n",
    "            loc = [z_loc, y_loc, x_loc]\n",
    "            field_info = params['fields'][','.join(map(str, (x, y, z)))]\n",
    "            off = field_info['off']\n",
    "            min_ = np.array(loc) + np.array(off) - np.ceil(np.array(params['fov_size']) / 2)\n",
    "\n",
    "            z_loc = float(min_[2])\n",
    "            y_loc = float(min_[1])\n",
    "            x_loc = float(min_[0])\n",
    "\n",
    "            fd.writelines('{};;({},{},{})\\n'.format(i,x_loc,y_loc,z_loc))"
   ]
  }
 ],
 "metadata": {
  "kernelspec": {
   "display_name": "Python 3",
   "language": "python",
   "name": "python3"
  },
  "language_info": {
   "codemirror_mode": {
    "name": "ipython",
    "version": 3
   },
   "file_extension": ".py",
   "mimetype": "text/x-python",
   "name": "python",
   "nbconvert_exporter": "python",
   "pygments_lexer": "ipython3",
   "version": "3.6.6"
  }
 },
 "nbformat": 4,
 "nbformat_minor": 2
}
