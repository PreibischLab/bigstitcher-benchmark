{
 "cells": [
  {
   "cell_type": "code",
   "execution_count": 2,
   "metadata": {},
   "outputs": [],
   "source": [
    "### Generate a tileConfig for BigStitcher\n",
    "\n",
    "import json\n",
    "from itertools import product, repeat, chain\n",
    "\n",
    "# from https://docs.python.org/3/library/itertools.html\n",
    "def ncycles(iterable, n):\n",
    "    \"Returns the sequence elements n times\"\n",
    "    return chain.from_iterable(repeat(tuple(iterable), n))\n",
    "\n",
    "params_file = \"/Volumes/davidh-ssd/mv-sim/sim3_1/sim3_1.json\"\n",
    "tile_conf_file = \"/Volumes/davidh-ssd/mv-sim/sim3_1/tileConf.txt\"\n",
    "\n",
    "with open(params_file, 'r') as fd:\n",
    "    params = json.load(fd)\n",
    "\n",
    "with open(tile_conf_file, 'w') as fd:\n",
    "    fd.writelines('dim=3\\n')\n",
    "    for (i,(x,y)) in enumerate(ncycles(product(range(len(params['x_locs'])), range(len(params['y_locs']))),4)):\n",
    "        x_loc=params['x_locs'][x] // params['downsampling']\n",
    "        y_loc=params['y_locs'][y] // params['downsampling']\n",
    "        fd.writelines('{};;({},{},0)\\n'.format(i,x_loc,y_loc))"
   ]
  }
 ],
 "metadata": {
  "kernelspec": {
   "display_name": "Python 3",
   "language": "python",
   "name": "python3"
  },
  "language_info": {
   "codemirror_mode": {
    "name": "ipython",
    "version": 3
   },
   "file_extension": ".py",
   "mimetype": "text/x-python",
   "name": "python",
   "nbconvert_exporter": "python",
   "pygments_lexer": "ipython3",
   "version": "3.6.6"
  }
 },
 "nbformat": 4,
 "nbformat_minor": 2
}
