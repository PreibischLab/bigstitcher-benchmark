{
 "cells": [
  {
   "cell_type": "code",
   "execution_count": null,
   "metadata": {
    "scrolled": false
   },
   "outputs": [],
   "source": [
    "import json\n",
    "import numpy as np\n",
    "from itertools import combinations, product\n",
    "from matplotlib import pyplot as plt\n",
    "\n",
    "%matplotlib inline\n",
    "plt.rcParams['figure.figsize'] = [12,12]\n",
    "\n",
    "results_file = \"/Volumes/davidh-ssd/mv-sim/sim62/match_results_2_stitch.json\"\n",
    "\n",
    "with open(results_file, 'r') as fd:\n",
    "    results = json.load(fd)\n",
    "\n",
    "### within-field distances\n",
    "ds_all = []\n",
    "for field, res_i in results.items():\n",
    "\n",
    "    ds = []\n",
    "    for (i,j) in combinations(range(len(res_i)), 2):\n",
    "        gt_1 = np.array(res_i[i]['gt'], dtype=np.float)\n",
    "        gt_2 = np.array(res_i[j]['gt'], dtype=np.float)\n",
    "        data_1 = np.array(res_i[i]['data'], dtype=np.float)\n",
    "        data_2 = np.array(res_i[j]['data'], dtype=np.float)\n",
    "\n",
    "        d = (gt_1 - gt_2) - (data_1 - data_2)\n",
    "        ds.append(np.linalg.norm(d))\n",
    "        #ds.append(d[2])\n",
    "    ds_all.append(ds)\n",
    "    \n",
    "\n",
    "_ = plt.boxplot(ds_all)\n",
    "\n",
    "print(\"in-group: {}\".format(np.mean([np.median(d) for d in ds_all])))\n",
    "\n",
    "### between-field distances\n",
    "ds_all = []\n",
    "vals = list(results.values())\n",
    "for (i,j) in combinations(range(len(vals)), 2):\n",
    "    f1 = vals[i]\n",
    "    f2 = vals[j]\n",
    "    ds = []\n",
    "    for (k,l) in product(range(len(f1)), range(len(f2))):\n",
    "        gt_1 = np.array(f1[k]['gt'], dtype=np.float)\n",
    "        gt_2 = np.array(f2[l]['gt'], dtype=np.float)\n",
    "        data_1 = np.array(f1[k]['data'], dtype=np.float)\n",
    "        data_2 = np.array(f2[l]['data'], dtype=np.float)\n",
    "\n",
    "        d = (gt_1 - gt_2) - (data_1 - data_2)\n",
    "        ds.append(np.linalg.norm(d))\n",
    "        #ds.append(d[2])\n",
    "    ds_all.append(ds)\n",
    "    \n",
    "\n",
    "plt.figure()\n",
    "_ = plt.boxplot(ds_all)\n",
    "\n",
    "print(\"between-group: {}\".format(np.mean([np.median(d) for d in ds_all])))"
   ]
  }
 ],
 "metadata": {
  "kernelspec": {
   "display_name": "Python 3",
   "language": "python",
   "name": "python3"
  },
  "language_info": {
   "codemirror_mode": {
    "name": "ipython",
    "version": 3
   },
   "file_extension": ".py",
   "mimetype": "text/x-python",
   "name": "python",
   "nbconvert_exporter": "python",
   "pygments_lexer": "ipython3",
   "version": "3.6.6"
  }
 },
 "nbformat": 4,
 "nbformat_minor": 2
}
