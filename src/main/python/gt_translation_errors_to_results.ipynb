{
 "cells": [
  {
   "cell_type": "code",
   "execution_count": null,
   "metadata": {},
   "outputs": [],
   "source": [
    "### Errors due to random translation of tiles, no biobeam\n",
    "import json\n",
    "import numpy as np\n",
    "\n",
    "params_file = \"/Volumes/davidh-ssd/mv-sim/sim6/sim6.json\"\n",
    "res_save_file = \"/Volumes/davidh-ssd/mv-sim/sim6/gt_results.json\"\n",
    "\n",
    "with open(params_file, 'r') as fd:\n",
    "    params = json.load(fd)\n",
    "    \n",
    "res = {}\n",
    "for k,v in params['fields'].items():\n",
    "    res_i = []\n",
    "    for p in v['points']:\n",
    "        gt = np.array(list(reversed(p)), dtype=int)//params['downsampling']\n",
    "        with_off = gt + np.array(list(reversed(v['off'])), dtype=int)//params['downsampling']\n",
    "        res_i.append({'gt': list(map(int, gt)), 'data':list(map(int, with_off))})   \n",
    "    res[k] = res_i\n",
    "\n",
    "with open(res_save_file, 'w') as fd:\n",
    "    json.dump(res, fd, indent=1)"
   ]
  }
 ],
 "metadata": {
  "kernelspec": {
   "display_name": "Python 3",
   "language": "python",
   "name": "python3"
  },
  "language_info": {
   "codemirror_mode": {
    "name": "ipython",
    "version": 3
   },
   "file_extension": ".py",
   "mimetype": "text/x-python",
   "name": "python",
   "nbconvert_exporter": "python",
   "pygments_lexer": "ipython3",
   "version": "3.6.6"
  }
 },
 "nbformat": 4,
 "nbformat_minor": 2
}
