{
 "cells": [
  {
   "cell_type": "code",
   "execution_count": 25,
   "metadata": {},
   "outputs": [],
   "source": [
    "import os\n",
    "import re\n",
    "\n",
    "import numpy as np\n",
    "import pandas as pd"
   ]
  },
  {
   "cell_type": "code",
   "execution_count": 54,
   "metadata": {},
   "outputs": [],
   "source": [
    "ip_dir = '/Volumes/davidh-ssd/BS_TEST/interestpoints/'\n",
    "f_ps = 'tpId_0_viewSetupId_([0-9]+).manual.corr.txt'\n",
    "\n",
    "fold_split = 1\n",
    "pair_counts = {}\n",
    "f_p = re.compile(f_ps)\n",
    "\n",
    "for f in os.listdir(ip_dir):\n",
    "    m = f_p.match(f)\n",
    "    if m:\n",
    "        vid_a = int(m.groups()[0])\n",
    "        df = pd.read_csv(os.path.join(ip_dir, f), sep='\\t')\n",
    "        for vid_b, count in zip(df.groupby('corresponding_viewsetup_id').size().index.values,\n",
    "                                df.groupby('corresponding_viewsetup_id').size().values):\n",
    "            \n",
    "\n",
    "            if vid_a // fold_split == vid_b // fold_split:\n",
    "                continue\n",
    "\n",
    "            pair_counts[(min(vid_a, vid_b), max(vid_a, vid_b))] = count\n",
    "        "
   ]
  },
  {
   "cell_type": "code",
   "execution_count": 55,
   "metadata": {
    "scrolled": false
   },
   "outputs": [
    {
     "name": "stdout",
     "output_type": "stream",
     "text": [
      "19 52\n"
     ]
    },
    {
     "data": {
      "text/plain": [
       "{(6, 9): 52,\n",
       " (9, 10): 31,\n",
       " (9, 14): 52,\n",
       " (9, 20): 48,\n",
       " (0, 3): 26,\n",
       " (0, 13): 23,\n",
       " (0, 19): 35,\n",
       " (4, 17): 31,\n",
       " (10, 17): 38,\n",
       " (14, 17): 43,\n",
       " (6, 13): 26,\n",
       " (6, 19): 33,\n",
       " (13, 14): 35,\n",
       " (3, 20): 49,\n",
       " (19, 20): 33,\n",
       " (20, 23): 27,\n",
       " (3, 14): 19,\n",
       " (10, 23): 49,\n",
       " (3, 4): 26,\n",
       " (4, 23): 39}"
      ]
     },
     "execution_count": 55,
     "metadata": {},
     "output_type": "execute_result"
    }
   ],
   "source": [
    "print(min(pair_counts.values()), max(pair_counts.values()))\n",
    "pair_counts"
   ]
  }
 ],
 "metadata": {
  "kernelspec": {
   "display_name": "Python 3",
   "language": "python",
   "name": "python3"
  },
  "language_info": {
   "codemirror_mode": {
    "name": "ipython",
    "version": 3
   },
   "file_extension": ".py",
   "mimetype": "text/x-python",
   "name": "python",
   "nbconvert_exporter": "python",
   "pygments_lexer": "ipython3",
   "version": "3.6.7"
  }
 },
 "nbformat": 4,
 "nbformat_minor": 2
}
