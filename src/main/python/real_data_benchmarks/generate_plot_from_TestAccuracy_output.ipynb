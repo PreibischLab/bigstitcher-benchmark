{
 "cells": [
  {
   "cell_type": "code",
   "execution_count": null,
   "metadata": {},
   "outputs": [],
   "source": [
    "import re\n",
    "from tkinter import Tk\n",
    "from collections import defaultdict\n",
    "\n",
    "import numpy as np\n",
    "from matplotlib import pyplot as plt\n",
    "from matplotlib import patches as mpatches\n",
    "\n",
    "%matplotlib inline"
   ]
  },
  {
   "cell_type": "code",
   "execution_count": null,
   "metadata": {},
   "outputs": [],
   "source": [
    "# lazy solution for getting Java output: get via clipboard\n",
    "\n",
    "# TODO: this does not close TK cleanly \n",
    "# how to close the tk app background process?\n",
    "t = Tk()\n",
    "clip = t.clipboard_get()"
   ]
  },
  {
   "cell_type": "code",
   "execution_count": null,
   "metadata": {},
   "outputs": [],
   "source": [
    "# parse the output of registration accuracy measurements\n",
    "\n",
    "group_idx = -1\n",
    "res = defaultdict(list)\n",
    "\n",
    "p = re.compile('tpId=0 setupId=([0-9]+?), mean error : (.*)')\n",
    "for line in clip.split('\\n'):\n",
    "    if line.startswith('0-'):\n",
    "        group_idx += 1\n",
    "    m = p.match(line)\n",
    "    if m:\n",
    "        err = float(m.groups()[1])\n",
    "        res[group_idx].append(err)\n",
    "        \n",
    "print(res)\n",
    "\n",
    "np.mean([np.mean(v) for k,v in res.items()])"
   ]
  },
  {
   "cell_type": "code",
   "execution_count": null,
   "metadata": {},
   "outputs": [],
   "source": [
    "# parse the output of maximum registration accuracy measurements\n",
    "# (using just manual beads)\n",
    "\n",
    "mns = []\n",
    "p = re.compile('.*?Avg Error: (.*?)px')\n",
    "\n",
    "for line in clip.split('\\n'):\n",
    "    m = p.match(line)\n",
    "    if m:\n",
    "        #print(m.groups())\n",
    "        err = float(m.groups()[0])\n",
    "        mns.append(err)\n",
    "\n",
    "print(np.mean(mns))"
   ]
  },
  {
   "cell_type": "code",
   "execution_count": null,
   "metadata": {},
   "outputs": [],
   "source": [
    "# values collected from the runs above\n",
    "\n",
    "means = {\n",
    "    'nr-angle-illum' : 2.671840472198133,\n",
    "    'nr-angle' : 3.6628449365984137,\n",
    "    'nr-all' : 6.2457957937289805,\n",
    "    'icp-all' : 8.052441664829841,\n",
    "    'icp-angle' : 4.722972984706986,\n",
    "    'icp-angle-illum' : 5.757628831721657,\n",
    "    'tr-all' : 11.521826004374818,\n",
    "    'tr-angle' : 7.331319951725959,\n",
    "    'tr-angle-illum' : 7.586251326558656,\n",
    "}\n",
    "\n",
    "theor_min = {\n",
    "    'nr-angle-illum' : 0.05851794422411804,\n",
    "    'nr-angle' : 0.09027884418293469,\n",
    "    'nr-all' : 0.15411947574067628,\n",
    "    'tr-angle-illum' : 2.9203602846828463,\n",
    "    'tr-angle' : 4.7476080455799305,\n",
    "    'tr-all' : 8.999987265179568,\n",
    "    'icp-angle-illum': 2.38294535936038,\n",
    "    'icp-angle' : 3.973140371328637,\n",
    "    'icp-all' : 5.960762898016536   \n",
    "}"
   ]
  },
  {
   "cell_type": "code",
   "execution_count": null,
   "metadata": {},
   "outputs": [],
   "source": [
    "# create plot\n",
    "\n",
    "cols = ['lightgrey'] * 3 + ['darkgrey'] * 3 + ['grey'] * 3\n",
    "xticks = (\n",
    "    list(reversed(['tr-angle-illum', 'tr-angle', 'tr-all'])) +\n",
    "    list(reversed(['icp-angle-illum', 'icp-angle', 'icp-all'])) +\n",
    "    list(reversed(['nr-angle-illum', 'nr-angle', 'nr-all']))\n",
    ")\n",
    "\n",
    "plt.figure(figsize=(12,8))\n",
    "for idx, (m, t, c) in enumerate(zip([means[k] for k in xticks],[theor_min[k] for k in xticks], cols)):\n",
    "    plt.bar(2*idx-0.4, m, color=c, edgecolor='black', linewidth=2,)\n",
    "    plt.bar(2*idx+0.4, t, color=c, edgecolor='black', linewidth=2, linestyle='dashed')\n",
    "    \n",
    "plt.xticks(np.arange(0,2*len(xticks),2), xticks)\n",
    "plt.ylabel('mean error (px)')\n",
    "plt.title('BigStitcher registration accuracy')\n",
    "\n",
    "legend_patches = [\n",
    "    mpatches.Rectangle([0,0], 0, 0, facecolor='lightgrey', edgecolor='black',\n",
    "                               linewidth=2, label='Translation, real errors'),\n",
    "    mpatches.Rectangle([0,0], 0, 0, facecolor='lightgrey', edgecolor='black',\n",
    "                               linewidth=2, linestyle='dashed', label='Translation, theoretical min. errors'),\n",
    "    mpatches.Rectangle([0,0], 0, 0, facecolor='darkgray', edgecolor='black',\n",
    "                               linewidth=2, label='Affine, real errors'),\n",
    "    mpatches.Rectangle([0,0], 0, 0, facecolor='darkgray', edgecolor='black',\n",
    "                               linewidth=2, linestyle='dashed', label='Affine, theoretical min. errors'),\n",
    "    mpatches.Rectangle([0,0], 0, 0, facecolor='gray', edgecolor='black',\n",
    "                               linewidth=2, label='Non-Rigid, real errors'),\n",
    "    mpatches.Rectangle([0,0], 0, 0, facecolor='gray', edgecolor='black',\n",
    "                               linewidth=2, linestyle='dashed', label='Non-Rigid, theoretical min. errors'),\n",
    "]\n",
    "\n",
    "plt.legend(handles=legend_patches)\n"
   ]
  }
 ],
 "metadata": {
  "kernelspec": {
   "display_name": "Python 3",
   "language": "python",
   "name": "python3"
  },
  "language_info": {
   "codemirror_mode": {
    "name": "ipython",
    "version": 3
   },
   "file_extension": ".py",
   "mimetype": "text/x-python",
   "name": "python",
   "nbconvert_exporter": "python",
   "pygments_lexer": "ipython3",
   "version": "3.6.7"
  }
 },
 "nbformat": 4,
 "nbformat_minor": 2
}
