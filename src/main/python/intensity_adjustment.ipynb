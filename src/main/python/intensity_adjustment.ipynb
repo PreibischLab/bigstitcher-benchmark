{
 "cells": [
  {
   "cell_type": "markdown",
   "metadata": {},
   "source": [
    "# Intensity adjustment\n",
    "\n",
    "Since ```biobeam``` produces intensities << 1 , we adjust them to approximately reach a desired SNR "
   ]
  },
  {
   "cell_type": "code",
   "execution_count": null,
   "metadata": {
    "scrolled": false
   },
   "outputs": [],
   "source": [
    "import warnings\n",
    "import numpy as np\n",
    "from numpy.random import poisson\n",
    "from itertools import product\n",
    "from sim_util import load_tiff_sequence, save_as_sequence\n",
    "\n",
    "# what we need to load\n",
    "n_tiles_x = 4\n",
    "n_tiles_y = 4\n",
    "n_tiles_z = 1\n",
    "two_sided_illum = True\n",
    "\n",
    "# quantiles to use for normailzation\n",
    "q_signal = 0.98\n",
    "q_descs = 1.0\n",
    "\n",
    "# desired SNR ~ sqrt(intensity at quantile)\n",
    "snr_signal = 20\n",
    "snr_descs = 30\n",
    "\n",
    "# in and out paths\n",
    "# {x},{y},{z},{ill} will be filled with respective indices\n",
    "in_fpath = '/Volumes/davidh-ssd/mv-sim/sim3_1/sim3_1-bbeam-x{x}-y{y}-z{z}-i{ill}-l500/'\n",
    "out_fpath = '/Volumes/davidh-ssd/mv-sim/sim3_1/intensity_adjusted/sim3_1-bbeam-x{x}-y{y}-z{z}-i{ill}-l500/'\n",
    "\n",
    "# should we add Poisson shot noise?\n",
    "add_poisson = True\n",
    "\n",
    "signal_imgs = []\n",
    "desc_imgs = []\n",
    "for (x,y,z,ill) in product(range(n_tiles_x), range(n_tiles_y), range(n_tiles_z), [1] if not two_sided_illum else [1,2]):\n",
    "\n",
    "    signal_img = load_tiff_sequence(in_fpath.format(x=x, y=y, z=z, ill=ill), 'bbeam_sim_c1.*')\n",
    "    desc_img = load_tiff_sequence(in_fpath.format(x=x, y=y, z=z, ill=ill), 'bbeam_sim_c2.*')\n",
    "    signal_imgs.append(signal_img)\n",
    "    desc_imgs.append(desc_img)\n",
    "    \n",
    "    print('loaded tile x={} y={}, z={}, illum={}'.format(x,y,z,ill))\n",
    "\n",
    "# get mean quantile for all images\n",
    "qs_signal = np.array([np.quantile(signal_img, q_signal) for signal_img in signal_imgs])\n",
    "qs_desc = np.array([np.quantile(desc_img, q_descs) for desc_img in desc_imgs])\n",
    "mq_signal = np.mean(qs_signal)\n",
    "mq_desc = np.mean(qs_desc)\n",
    "\n",
    "print('mean {}-quantile of signal images: {}'.format(q_signal, mq_signal))\n",
    "print('mean {}-quantile of descriptor images: {}'.format(q_descs, mq_desc))\n",
    "\n",
    "for (i,(x,y,z,ill)) in enumerate(product(range(n_tiles_x), range(n_tiles_y), range(n_tiles_z), [1] if not two_sided_illum else [1,2])):\n",
    "    \n",
    "    signal_img = signal_imgs[i]\n",
    "    desc_img = desc_imgs[i]\n",
    "    \n",
    "    # normalize and scale intensity to desired SNR\n",
    "    signal_img /= mq_signal\n",
    "    desc_img /= mq_desc\n",
    "    signal_img *= snr_signal**2\n",
    "    desc_img *= snr_descs**2\n",
    "    \n",
    "    # shot noise\n",
    "    if add_poisson:\n",
    "        signal_img = poisson(signal_img)\n",
    "        desc_img = poisson(desc_img)\n",
    "        \n",
    "    out_dir = out_fpath.format(x=x, y=y, z=z, ill=ill)\n",
    "    with warnings.catch_warnings():\n",
    "        # ignore annoying \"low constrast image\" warnings printed by skimage\n",
    "        warnings.filterwarnings(\"ignore\", message=\".*?low contrast image.*?\")\n",
    "        save_as_sequence(signal_img, out_dir, 'bbeam_sim_c1_z{plane}.tif')\n",
    "        save_as_sequence(desc_img, out_dir, 'bbeam_sim_c2_z{plane}.tif')\n",
    "    \n",
    "    print('saved intensity adjusted tile x={} y={}, z={}, illum={}'.format(x,y,z,ill))\n",
    "    \n"
   ]
  }
 ],
 "metadata": {
  "kernelspec": {
   "display_name": "Python 3",
   "language": "python",
   "name": "python3"
  },
  "language_info": {
   "codemirror_mode": {
    "name": "ipython",
    "version": 3
   },
   "file_extension": ".py",
   "mimetype": "text/x-python",
   "name": "python",
   "nbconvert_exporter": "python",
   "pygments_lexer": "ipython3",
   "version": "3.6.6"
  }
 },
 "nbformat": 4,
 "nbformat_minor": 2
}
