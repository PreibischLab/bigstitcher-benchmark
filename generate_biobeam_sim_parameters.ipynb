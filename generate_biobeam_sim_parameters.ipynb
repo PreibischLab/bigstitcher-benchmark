{
 "cells": [
  {
   "cell_type": "markdown",
   "metadata": {},
   "source": [
    "# 1. Definition of ```biobeam```-simulation\n",
    "\n",
    "Deterministic parameters for the simulation"
   ]
  },
  {
   "cell_type": "code",
   "execution_count": null,
   "metadata": {},
   "outputs": [],
   "source": [
    "import os\n",
    "import json\n",
    "import numpy as np\n",
    "\n",
    "param_save_path = '/Volumes/davidh-ssd/mv-sim/sim_tissue/bbeam_params.json'\n",
    "params = {}\n",
    "\n",
    "### save path formatstring for simulated images \n",
    "# has to contain the following placeholders:\n",
    "# {x} := index of x tile\n",
    "# {y} := index of y tile\n",
    "# {z} := index of z tile\n",
    "# {illum} := 1=left/2=right\n",
    "# {lam} := wavelength\n",
    "save_fstring = params['save_fstring'] = '/Volumes/davidh-ssd/mv-sim/sim_tissue/sim-bbeam-x{x}-y{y}-z{z}-i{illum}-l{lam}/'\n",
    "\n",
    "seed = params['seed'] = 1222\n",
    "raw_data_path = params['raw_data_path'] = '/Volumes/davidh-ssd/mv-sim/sim_tissue/sim-phantom/'\n",
    "raw_data_dims = params['raw_data_dims'] = (255, 2048, 2048)\n",
    "\n",
    "# NB: only use downsampling for quick, local testing, do final sims on raw resolution!\n",
    "downsampling = params['downsampling'] = 4\n",
    "\n",
    "# NB: z should not be subsampled so much (psz should be ~lambda/2)\n",
    "# TODO: re-do with larger volume\n",
    "#phys_dims = params['phys_dims'] = (400, 400, 50)\n",
    "phys_dims = params['phys_dims'] = (400, 400, 200)\n",
    "\n",
    "na_illum = params['na_illum'] = 0.2\n",
    "na_detect = params['na_detect'] = 0.5\n",
    "ri_medium =  params['ri_medium'] = 1.33\n",
    "ri_delta_range = params['ri_delta_range'] = (.05, .1)\n",
    "two_sided_illum = params['two_sided_illum'] = True\n",
    "lambdas = params['lambdas'] = (400, )\n",
    "\n",
    "fov_size = params['fov_size'] = (200, 450, 450)\n",
    "point_fov_size = params['point_fov_size'] = (150, 400, 400)\n",
    "n_points_per_fov = params['n_points_per_fov'] = 10\n",
    "points_min_distance = params['points_min_distance'] = 20\n",
    "\n",
    "min_off = params['min_off'] = (-10, -10, -10)\n",
    "max_off = params['max_off'] = (10, 10, 10)\n",
    "\n",
    "#x_locs = params['x_locs'] = (1024 - 600, 1024 - 200, 1024 + 200, 1024 + 600)\n",
    "x_locs = params['x_locs'] = (1024 - 600, 1024 - 200,)\n",
    "#y_locs = params['y_locs'] = (1024 - 600, 1024 - 200, 1024 + 200, 1024 + 600)\n",
    "y_locs = params['y_locs'] = (1024 - 600, )\n",
    "\n",
    "z_locs = params['z_locs'] = (128, )\n",
    "\n",
    "padding = params['padding'] = 32\n",
    "\n",
    "\n",
    "#os.path.relpath(raw_data_path, os.path.split(param_save_path)[0])\n",
    "#params\n",
    "#raw_data_path"
   ]
  },
  {
   "cell_type": "markdown",
   "metadata": {},
   "source": [
    "# 2. Random offsets and descriptors\n",
    "\n",
    "Generating random offsets of tiles and descriptors in each tile"
   ]
  },
  {
   "cell_type": "code",
   "execution_count": null,
   "metadata": {},
   "outputs": [],
   "source": [
    "from sim_util import random_points_in_volume_min_distance\n",
    "\n",
    "np.random.seed(seed)\n",
    "fields = params['fields'] = {}\n",
    "\n",
    "xidx, yidx, zidx = np.meshgrid(range(len(x_locs)), range(len(y_locs)), range(len(z_locs)))\n",
    "for xi, yi, zi in zip(xidx.flat, yidx.flat, zidx.flat):\n",
    "    #print(xi, yi, zi)\n",
    "    \n",
    "    off = [np.random.randint(min_off[i], max_off[i] + 1) for i in range(len(min_off))]\n",
    "    loc = [z_locs[zi], y_locs[yi], x_locs[xi]]\n",
    "    min_ = np.array(loc) - np.ceil(np.array(fov_size) / 2)\n",
    "    max_ = np.array(loc) + np.floor(np.array(fov_size) / 2)\n",
    "    \n",
    "    min_points = min_ + (np.array(fov_size) - np.array(point_fov_size)) / 2\n",
    "    max_points = min_ + (np.array(fov_size) + np.array(point_fov_size)) / 2\n",
    "    \n",
    "    points = random_points_in_volume_min_distance(min_points, max_, points_min_distance, n_points_per_fov)\n",
    "    \n",
    "    fields[','.join(map(str, (xi, yi, zi)))] = {}\n",
    "    fields[','.join(map(str, (xi, yi, zi)))]['off'] = off\n",
    "    fields[','.join(map(str, (xi, yi, zi)))]['points'] = [list(map(int, p)) for p in list(points)]\n",
    "    "
   ]
  },
  {
   "cell_type": "markdown",
   "metadata": {},
   "source": [
    "# Save simulation params"
   ]
  },
  {
   "cell_type": "code",
   "execution_count": null,
   "metadata": {},
   "outputs": [],
   "source": [
    "with open(param_save_path, 'w') as fd:\n",
    "    json.dump(params, fd, indent=1)"
   ]
  },
  {
   "cell_type": "markdown",
   "metadata": {},
   "source": [
    "# Run simulation, better to do this via run_sim2.py"
   ]
  },
  {
   "cell_type": "code",
   "execution_count": null,
   "metadata": {},
   "outputs": [],
   "source": [
    "import gputools\n",
    "import pyopencl\n",
    "\n",
    "# set and check which gpu is used\n",
    "gputools.init_device(id_platform = 0, id_device = 1)\n",
    "gputools.get_device()"
   ]
  },
  {
   "cell_type": "code",
   "execution_count": null,
   "metadata": {},
   "outputs": [],
   "source": [
    "from sim_util import sim_from_definition\n",
    "\n",
    "param_save_path = '/Volumes/davidh-ssd/mv-sim/sim_tissue/bbeam_params.json'\n",
    "sim_from_definition(param_save_path)"
   ]
  },
  {
   "cell_type": "markdown",
   "metadata": {},
   "source": [
    "# Misc. stuff"
   ]
  },
  {
   "cell_type": "code",
   "execution_count": null,
   "metadata": {},
   "outputs": [],
   "source": [
    "# Approximately Normalize and scale to desired SNR\n",
    "# TODO: extract to function\n",
    "\n",
    "img = load_tiff_sequence('/Volumes/davidh-ssd/mv-sim/sim_tissue/sim-bbeam-x0-y0-z0-iright-l400/', 'bbeam_sim_c1.*')\n",
    "\n",
    "snr = 7\n",
    "q = 0.98\n",
    "img = img / np.quantile(img, q) * snr**2\n",
    "\n",
    "save_as_sequence(img, '/Volumes/davidh-ssd/mv-sim/sim_tissue/sim-bbeam-x0-y0-z0-iright-l400/', file_pattern='bbeam_sim_c1_z{plane}.tif')\n"
   ]
  }
 ],
 "metadata": {
  "kernelspec": {
   "display_name": "Python 3",
   "language": "python",
   "name": "python3"
  },
  "language_info": {
   "codemirror_mode": {
    "name": "ipython",
    "version": 3
   },
   "file_extension": ".py",
   "mimetype": "text/x-python",
   "name": "python",
   "nbconvert_exporter": "python",
   "pygments_lexer": "ipython3",
   "version": "3.6.6"
  }
 },
 "nbformat": 4,
 "nbformat_minor": 2
}
