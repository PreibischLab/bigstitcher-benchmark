{
 "cells": [
  {
   "cell_type": "code",
   "execution_count": null,
   "metadata": {},
   "outputs": [],
   "source": [
    "import os\n",
    "import re\n",
    "\n",
    "import numpy as np\n",
    "\n",
    "import biobeam\n",
    "import gputools\n",
    "import pyopencl\n",
    "from matplotlib import pyplot as plt\n",
    "from skimage.io import imsave\n",
    "from skimage.io import imread_collection\n",
    "\n",
    "from run_sim import sim_lightsheet, split_str_digit\n",
    "\n",
    "\n",
    "%matplotlib inline\n",
    "plt.rcParams['figure.figsize'] = [12,12]"
   ]
  },
  {
   "cell_type": "code",
   "execution_count": null,
   "metadata": {},
   "outputs": [],
   "source": [
    "def simple_downsample(a, factors):\n",
    "    \"\"\"\n",
    "    very simple subsampling of array\n",
    "    \n",
    "    Parameters\n",
    "    ----------\n",
    "    a: array\n",
    "    the array to downsample\n",
    "    factors: int or sequence of ints\n",
    "    downsampling factors\n",
    "    \n",
    "    Returns\n",
    "    -------\n",
    "    a2: array\n",
    "    subsampled version of a\n",
    "    \"\"\"\n",
    "    \n",
    "    if np.isscalar(factors):\n",
    "        factors = [factors] * len(a.shape)\n",
    "    \n",
    "    a2 = a\n",
    "    for i,f in enumerate(factors):\n",
    "        a2 = np.take(a2, np.arange(0, a2.shape[i], f),axis=i)\n",
    "        \n",
    "    return a2"
   ]
  },
  {
   "cell_type": "code",
   "execution_count": null,
   "metadata": {},
   "outputs": [],
   "source": [
    "# set and check which gpu is used\n",
    "gputools.init_device(id_platform = 0, id_device = 1)\n",
    "gputools.get_device()"
   ]
  },
  {
   "cell_type": "code",
   "execution_count": null,
   "metadata": {},
   "outputs": [],
   "source": [
    "# call sim_lightsheet\n",
    "\n",
    "if __name__ == '__main__':\n",
    "    \n",
    "    base_dir = '/Volumes/davidh-ssd/mv-sim/sim_tissue/'\n",
    "    \n",
    "    params = [\n",
    "        (False, 200, 400),\n",
    "    ]\n",
    "    ''' (False, 400, 400),\n",
    "        (False, 550, 400),\n",
    "        (True, 250, 400),\n",
    "        (True, 400, 400),\n",
    "        (True, 550, 400),\n",
    "        (False, 250, 600),\n",
    "        (False, 400, 600),\n",
    "        (False, 550, 600),\n",
    "        (True, 250, 600),\n",
    "        (True, 400, 600),\n",
    "        (True, 550, 600)\n",
    "    ]\n",
    "    '''\n",
    "    for (right_illum, ls_pos, lam) in params:\n",
    "        out_dir = 'sim-biobeam2-illum_{}-ls_pos_{}-lam-{}'.format('right' if right_illum else 'left', ls_pos, lam)\n",
    "        sim_lightsheet(base_dir, out_dir, right_illum=right_illum, ls_pos=ls_pos, lam=lam, planes_to_simulate=[128])\n",
    "    print('ALL DONE.')\n",
    "    "
   ]
  },
  {
   "cell_type": "code",
   "execution_count": null,
   "metadata": {},
   "outputs": [],
   "source": [
    "# illumination from right side\n",
    "right_illum = True\n",
    "# phantom size in microns\n",
    "physical_dims = (400,400,50)\n",
    "# LS position\n",
    "ls_pos = 200"
   ]
  },
  {
   "cell_type": "code",
   "execution_count": null,
   "metadata": {
    "scrolled": false
   },
   "outputs": [],
   "source": [
    "# load tiff series test data\n",
    "\n",
    "sequence_pattern = 'sim(\\d+).tif'\n",
    "in_path = '/Volumes/davidh-ssd/mv-sim/sim_tissue/sim-phantom/'\n",
    "\n",
    "files = os.listdir(in_path)\n",
    "files.sort(key=lambda f: split_str_digit(f))\n",
    "files\n",
    "\n",
    "ic = imread_collection([os.path.join(in_path, f) for f in files])\n",
    "img = ic.concatenate()\n",
    "\n",
    "img = np.pad(img, ((16,16),(0,0),(0,0)), \"constant\")\n",
    "if right_illum:\n",
    "    img = np.flip(img, 2)"
   ]
  },
  {
   "cell_type": "code",
   "execution_count": null,
   "metadata": {},
   "outputs": [],
   "source": [
    "signal = img\n",
    "dn = (signal / np.max(signal)) * 0.01\n",
    "\n",
    "#create a microscope simulator\n",
    "m = biobeam.SimLSM_Cylindrical(dn = dn, signal = signal, zfoc_illum=physical_dims[0]/2 - ls_pos,\n",
    "                       NA_illum= .1, NA_detect=.45,\n",
    "                       n_volumes=8,\n",
    "                       size = physical_dims, n0 = 1.33)"
   ]
  },
  {
   "cell_type": "code",
   "execution_count": null,
   "metadata": {
    "scrolled": false
   },
   "outputs": [],
   "source": [
    "out_fmt = 'sim-bbeam-{}-{}.tif'\n",
    "out_path = '/Volumes/davidh-ssd/mv-sim/sim_tissue/sim-bbeam-right2/'\n",
    "\n",
    "if not os.path.exists(out_path):\n",
    "    os.makedirs(out_path)\n",
    "\n",
    "out = np.zeros((img.shape[0] - 16*2,) + img.shape[1:], dtype=img.dtype)\n",
    "\n",
    "for i in range(out.shape[0]):\n",
    "    \n",
    "    if i != 155:\n",
    "        continue\n",
    "    \n",
    "    cz = i - (img.shape[0] - 16*2) // 2\n",
    "    cz = cz * m._bpm_detect.units[-1]\n",
    "\n",
    "    image = m.simulate_image_z(cz=cz, psf_grid_dim=(16,16), conv_sub_blocks=(8,8))\n",
    "    out[i] = image[16] if not right_illum else np.flip(image[16], 2)\n",
    "    \n",
    "    # save immediately\n",
    "    imsave(os.path.join(out_path, out_fmt.format(\"left\" if not right_illum else \"right\", i)), out[i])\n",
    "    \n",
    "    print(\"{} of {} done\".format(i+1, out.shape[0]))"
   ]
  },
  {
   "cell_type": "code",
   "execution_count": null,
   "metadata": {},
   "outputs": [],
   "source": [
    "image[16] if not right_illum else np.flip(image[16], 1).shape\n",
    "#out.shape\n",
    "np.array(img.shape) - 32\n",
    "\n",
    "from scipy.ndimage import zoom\n",
    "\n",
    "zoom(img, [1,2,2]).shape"
   ]
  },
  {
   "cell_type": "code",
   "execution_count": null,
   "metadata": {},
   "outputs": [],
   "source": [
    "\n",
    "\n",
    "simple_downsample(img, [1,2,2]).shape"
   ]
  },
  {
   "cell_type": "code",
   "execution_count": null,
   "metadata": {},
   "outputs": [],
   "source": [
    "_ = \"\"\"\n",
    "\n",
    "pl = pyopencl.get_platforms()[0]\n",
    "pl.get_devices()\n",
    "os.environ['PYOPENCL_COMPILER_OUTPUT'] = '1'\n",
    "\n",
    "gputools.init_device(id_platform = 0, id_device = 1)\n",
    "\n",
    "signal = read_tiff_stack('/Users/david/Desktop/Image 0-1.tif', False)\n",
    "signal = np.swapaxes(signal, 0,2)\n",
    "dn = (signal > 0) * 0.01\n",
    "\n",
    "#create a microscope simulator\n",
    "m = biobeam.SimLSM_Cylindrical(dn = dn, signal = signal,\n",
    "                       NA_illum= .1, NA_detect=.45,\n",
    "                       n_volumes=1,\n",
    "                       size = (128,512,512), n0 = 1.33)\n",
    "\n",
    "image = m.simulate_image_z(cz=0, psf_grid_dim=(16,16), conv_sub_blocks=(2,2))\n",
    "\n",
    "\n",
    "print(image.shape)\n",
    "plt.imshow(image[16])\n",
    "\"\"\""
   ]
  }
 ],
 "metadata": {
  "anaconda-cloud": {},
  "kernelspec": {
   "display_name": "Python 3",
   "language": "python",
   "name": "python3"
  },
  "language_info": {
   "codemirror_mode": {
    "name": "ipython",
    "version": 3
   },
   "file_extension": ".py",
   "mimetype": "text/x-python",
   "name": "python",
   "nbconvert_exporter": "python",
   "pygments_lexer": "ipython3",
   "version": "3.6.6"
  }
 },
 "nbformat": 4,
 "nbformat_minor": 2
}
