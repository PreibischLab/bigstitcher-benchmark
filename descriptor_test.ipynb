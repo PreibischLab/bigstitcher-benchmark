{
 "cells": [
  {
   "cell_type": "code",
   "execution_count": 313,
   "metadata": {},
   "outputs": [],
   "source": [
    "import json\n",
    "\n",
    "import numpy as np\n",
    "from scipy.spatial import KDTree\n",
    "from scipy.optimize import linear_sum_assignment"
   ]
  },
  {
   "cell_type": "code",
   "execution_count": 735,
   "metadata": {
    "scrolled": false
   },
   "outputs": [
    {
     "name": "stdout",
     "output_type": "stream",
     "text": [
      "[33 75 35  9 50 71 68 22 59  7 62 44  3 29 18 48 13 15 43 17  5 40 20 11\n",
      " 24 10 31 23 56  8 65 78 34  0  6 76 30 14 38 72 19 64 49 61 52 25 74 32\n",
      " 51 26 39  4 67 37 41 45 70 42 77 53 79 16 54 60  1 46 58 73  2 66 69 12\n",
      " 36 63 47 28 27 57 55 21]\n",
      "[33 75 35  9 50 71 68 22 59  7 62 44  3 29 18 48 13 15 43 17  5 40 20 11\n",
      " 24 10 31 23 56  8 65 78 34  0  6 76 30 14 38 72 19 64 49 61 52 25 74 32\n",
      " 51 26 39  4 67 37 41 45 70 42 77 53 79 16 54 60  1 46 58 73  2 66 69 12\n",
      " 36 63 47 28 27 57 55 21]\n",
      "[33 75 35  9 50 71 68 22 59  7 62 44  3 29 18 48 13 15 43 17  5 40 20 11\n",
      " 24 10 31 23 56  8 65 78 34  0  6 76 30 14 38 72 19 64 49 61 52 25 74 32\n",
      " 51 26 39  4 67 37 41 45 70 42 77 53 79 16 54 60  1 46 58 73  2 66 69 12\n",
      " 36 63 47 28 27 57 55 21]\n"
     ]
    },
    {
     "data": {
      "text/plain": [
       "(0, 0)"
      ]
     },
     "execution_count": 735,
     "metadata": {},
     "output_type": "execute_result"
    }
   ],
   "source": [
    "#np.random.seed(42)\n",
    "\n",
    "def random_spots_in_radius(n_spots, n_dim, radius):\n",
    "    \"\"\"\n",
    "    get random relative (integer) coordinates within radius\n",
    "    \"\"\"\n",
    "    \n",
    "    res_spots = []\n",
    "    while len(res_spots) < n_spots:\n",
    "        # uniformly distributed on hypersquare\n",
    "        candidate = [np.random.randint(-radius,radius+1) for _ in range(n_dim)]\n",
    "        # reject spots not in hypersphere\n",
    "        if (np.sum(np.array(candidate)**2) <= radius**2):\n",
    "            res_spots.append(candidate)\n",
    "\n",
    "    return np.array(res_spots)\n",
    "\n",
    "radius = 100\n",
    "n_dim = 3\n",
    "n_spots = 5*16\n",
    "spots = random_spots_in_radius(n_spots, n_dim, radius)\n",
    "\n",
    "def get_descriptor(spot, spots, neighbors_for_descriptor = 3):\n",
    "    kd = KDTree(spots)\n",
    "    ds, idxs = kd.query(spot, k=neighbors_for_descriptor+1)\n",
    "    d_vecs = spot - spots[idxs[1:]]\n",
    "    desc = d_vecs.flatten()\n",
    "    return desc\n",
    "\n",
    "def match_kd(descs_a, descs_b):\n",
    "    kd = KDTree(descs_a)\n",
    "    ds, idxes = kd.query(descs_b)\n",
    "    return idxes\n",
    "\n",
    "def match_la(descs_a, descs_b):\n",
    "    n_spots = np.array(descs_a).shape[0]\n",
    "    a = np.tile(descs_a, [n_spots, 1] )\n",
    "    b = np.repeat(descs_b, n_spots, 0)\n",
    "    ds = np.sqrt(np.sum((a-b)**2, axis=1)).reshape((n_spots, n_spots))\n",
    "    _, idxes_la = linear_sum_assignment(ds)\n",
    "    return idxes_la\n",
    "\n",
    "descs_gt = [get_descriptor(s, spots) for s in spots]\n",
    "perm = np.arange(n_spots)\n",
    "np.random.shuffle(perm)\n",
    "spots_t = spots[perm]\n",
    "spots_t += np.array([210] * n_dim)\n",
    "descs_shuff = [get_descriptor(s, spots_t) for s in spots_t]\n",
    "\n",
    "\n",
    "idxes = match_kd(descs_gt, descs_shuff)\n",
    "idxes_la = match_la(descs_gt, descs_shuff)\n",
    "\n",
    "#print(perm)\n",
    "#print(idxes)\n",
    "#print(idxes_la)\n",
    "\n",
    "(np.sum(idxes_la!=perm), np.sum(perm!=idxes))"
   ]
  }
 ],
 "metadata": {
  "kernelspec": {
   "display_name": "Python 3",
   "language": "python",
   "name": "python3"
  },
  "language_info": {
   "codemirror_mode": {
    "name": "ipython",
    "version": 3
   },
   "file_extension": ".py",
   "mimetype": "text/x-python",
   "name": "python",
   "nbconvert_exporter": "python",
   "pygments_lexer": "ipython3",
   "version": "3.6.6"
  }
 },
 "nbformat": 4,
 "nbformat_minor": 2
}
